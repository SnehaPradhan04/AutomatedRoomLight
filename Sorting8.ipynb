{
  "nbformat": 4,
  "nbformat_minor": 0,
  "metadata": {
    "colab": {
      "provenance": [],
      "authorship_tag": "ABX9TyPJm7G7g8Zr6rS/jNmwaP4N",
      "include_colab_link": true
    },
    "kernelspec": {
      "name": "python3",
      "display_name": "Python 3"
    },
    "language_info": {
      "name": "python"
    }
  },
  "cells": [
    {
      "cell_type": "markdown",
      "metadata": {
        "id": "view-in-github",
        "colab_type": "text"
      },
      "source": [
        "<a href=\"https://colab.research.google.com/github/SnehaPradhan04/AutomatedRoomLight/blob/master/Sorting8.ipynb\" target=\"_parent\"><img src=\"https://colab.research.google.com/assets/colab-badge.svg\" alt=\"Open In Colab\"/></a>"
      ]
    },
    {
      "cell_type": "code",
      "execution_count": 3,
      "metadata": {
        "id": "MXdAk0qfviKF",
        "colab": {
          "base_uri": "https://localhost:8080/"
        },
        "outputId": "8d69199a-587f-4284-b1fd-8403e5030c56"
      },
      "outputs": [
        {
          "output_type": "stream",
          "name": "stdout",
          "text": [
            "Enter elements for the array: 12 3 4 5 78\n",
            "There is no majority element.\n"
          ]
        }
      ],
      "source": [
        "#An element is a majority if it appears more than n/2 times.\n",
        "#Give an algorithm takes an array of n element as argument\n",
        "#and identifies a majority (if it exists).\n",
        "\n",
        "def majority_element(nums):\n",
        "    candidate = None\n",
        "    count = 0\n",
        "\n",
        "    for num in nums:\n",
        "        if count == 0:\n",
        "            candidate = num\n",
        "        count += 1 if num == candidate else -1\n",
        "\n",
        "    count = 0\n",
        "    for num in nums:\n",
        "        if num == candidate:\n",
        "            count += 1\n",
        "\n",
        "    if count > len(nums) // 2:\n",
        "        return candidate\n",
        "    else:\n",
        "        return None\n",
        "\n",
        "input_array = list(map(int, input(\"Enter elements for the array: \").split()))\n",
        "\n",
        "result = majority_element(input_array)\n",
        "\n",
        "if result is not None:\n",
        "    print(f\"The majority element is: {result}\")\n",
        "else:\n",
        "    print(\"There is no majority element.\")\n"
      ]
    }
  ]
}