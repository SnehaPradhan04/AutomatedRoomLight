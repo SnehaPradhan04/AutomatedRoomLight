{
  "nbformat": 4,
  "nbformat_minor": 0,
  "metadata": {
    "colab": {
      "provenance": [],
      "authorship_tag": "ABX9TyNLmDHMspowLTxHP1Pb9xWz",
      "include_colab_link": true
    },
    "kernelspec": {
      "name": "python3",
      "display_name": "Python 3"
    },
    "language_info": {
      "name": "python"
    }
  },
  "cells": [
    {
      "cell_type": "markdown",
      "metadata": {
        "id": "view-in-github",
        "colab_type": "text"
      },
      "source": [
        "<a href=\"https://colab.research.google.com/github/SnehaPradhan04/AutomatedRoomLight/blob/master/Sorting5.ipynb\" target=\"_parent\"><img src=\"https://colab.research.google.com/assets/colab-badge.svg\" alt=\"Open In Colab\"/></a>"
      ]
    },
    {
      "cell_type": "code",
      "execution_count": 1,
      "metadata": {
        "colab": {
          "base_uri": "https://localhost:8080/"
        },
        "id": "eg8nB1WKpWpd",
        "outputId": "846e63ed-a6a6-4a31-b788-29b62e41236f"
      },
      "outputs": [
        {
          "output_type": "stream",
          "name": "stdout",
          "text": [
            "Enter the elements for the array: 1 60 -10 -70 -80 85\n",
            "pair having closest sum to zero is: (-80, 85)\n"
          ]
        }
      ],
      "source": [
        "#Given an array of both positive and negative numbers,\n",
        "#find two numbers such that their sum is\n",
        "#closest to 0. Ex: [ 1 ,60 ,-10, 70, -80,85]. Ans : -80,85\n",
        "\n",
        "def closest_sum_to_zero(arr):\n",
        "    arr.sort()\n",
        "\n",
        "    left, right = 0, len(arr) - 1\n",
        "\n",
        "    closest_sum = float('inf')\n",
        "    closest_pair = None\n",
        "\n",
        "    while left < right:\n",
        "        current_sum = arr[left] + arr[right]\n",
        "\n",
        "        if abs(current_sum) < closest_sum:\n",
        "            closest_sum = abs(current_sum)\n",
        "            closest_pair = (arr[left], arr[right])\n",
        "\n",
        "        if current_sum < 0:\n",
        "            left += 1\n",
        "        elif current_sum > 0:\n",
        "            right -= 1\n",
        "        else:\n",
        "            return (arr[left], arr[right])\n",
        "\n",
        "    return closest_pair\n",
        "\n",
        "user_input = input(\"Enter the elements for the array: \")\n",
        "arr = list(map(int, user_input.split()))\n",
        "\n",
        "result = closest_sum_to_zero(arr)\n",
        "print(\"pair having closest sum to zero is:\", result)\n"
      ]
    }
  ]
}