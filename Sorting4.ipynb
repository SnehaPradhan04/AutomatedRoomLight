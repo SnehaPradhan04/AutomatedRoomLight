{
  "nbformat": 4,
  "nbformat_minor": 0,
  "metadata": {
    "colab": {
      "provenance": [],
      "authorship_tag": "ABX9TyNit7H3voe2D7v+pD3STEZK",
      "include_colab_link": true
    },
    "kernelspec": {
      "name": "python3",
      "display_name": "Python 3"
    },
    "language_info": {
      "name": "python"
    }
  },
  "cells": [
    {
      "cell_type": "markdown",
      "metadata": {
        "id": "view-in-github",
        "colab_type": "text"
      },
      "source": [
        "<a href=\"https://colab.research.google.com/github/SnehaPradhan04/AutomatedRoomLight/blob/master/Sorting4.ipynb\" target=\"_parent\"><img src=\"https://colab.research.google.com/assets/colab-badge.svg\" alt=\"Open In Colab\"/></a>"
      ]
    },
    {
      "cell_type": "code",
      "execution_count": null,
      "metadata": {
        "colab": {
          "base_uri": "https://localhost:8080/"
        },
        "id": "c8zZrKLp7vbO",
        "outputId": "a868929b-1f46-4245-b5e4-5f44a591e3f4"
      },
      "outputs": [
        {
          "output_type": "stream",
          "name": "stdout",
          "text": [
            "Enter the number of elements: 5\n",
            "Enter the elements for the array: 3 16 78 34 2\n",
            "Enter the target sum K: 19\n",
            "Pair found: 16 + 3 = 19\n"
          ]
        }
      ],
      "source": [
        "#Given an array of n elements. Find two elements in the\n",
        "#array such that their sum is equal to given element K\n",
        "\n",
        "def find_pair_with_sum(arr, target):\n",
        "    seen = set()\n",
        "    for num in arr:\n",
        "        complement = target - num\n",
        "        if complement in seen:\n",
        "            return num, complement\n",
        "        seen.add(num)\n",
        "    return None\n",
        "\n",
        "try:\n",
        "    n = int(input(\"Enter the number of elements: \"))\n",
        "    arr = list(map(int, input(\"Enter the elements for the array: \").split()))\n",
        "    k = int(input(\"Enter the target sum K: \"))\n",
        "\n",
        "    result = find_pair_with_sum(arr, k)\n",
        "\n",
        "    if result:\n",
        "        print(f\"Pair found: {result[0]} + {result[1]} = {k}\")\n",
        "    else:\n",
        "        print(\"No pair found with the given sum.\")\n",
        "\n",
        "except ValueError:\n",
        "    print(\"Invalid input. Please enter valid integers.\")\n"
      ]
    }
  ]
}